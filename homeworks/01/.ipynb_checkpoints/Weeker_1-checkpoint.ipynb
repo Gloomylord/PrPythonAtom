{
 "cells": [
  {
   "cell_type": "markdown",
   "metadata": {},
   "source": [
    "# Недельник 1\n",
    "\n",
    "Как было сказано на лекции, на текущей неделе вы получаете ежедневные задания. Система оценки следующая: в первый день(четверг) вы делаете первый pull-request в ветку homework_01. Потом каждый день делаете коммит, он будет автоматически привязывать к pull-request. Если задачка не сделана в течении 2-х дней она сгорает. (Можно четверг сделать в четверг и пятницу)"
   ]
  },
  {
   "cell_type": "markdown",
   "metadata": {},
   "source": [
    "# Четверг"
   ]
  },
  {
   "cell_type": "code",
   "execution_count": 3,
   "metadata": {},
   "outputs": [],
   "source": [
    "#TODO Сделайте калькулятор произвольных выражений, операции следующие: +, -, /, ^, *. скобок нет\n",
    "def calculate(input_str):\n",
    "    a=eval(input_str.replace('^', '**'))\n",
    "    return a\n"
   ]
  },
  {
   "cell_type": "code",
   "execution_count": 7,
   "metadata": {},
   "outputs": [],
   "source": [
    "assert calculate(\"2 + 2 * 2\") == 6\n",
    "assert calculate(\"345 / 5 * 21\") == 1449.\n",
    "assert calculate(\"3^3 - 10 + 41 * 3\") == 140\n",
    "assert calculate(\"42 / 7 * 32\") == 192.0\n",
    "assert calculate(\"2 * 32 * 16 - 400\") == 624\n",
    "assert calculate(\"92 - 450 / 9 + 67\") == 109"
   ]
  },
  {
   "cell_type": "markdown",
   "metadata": {},
   "source": [
    "# Пятница"
   ]
  },
  {
   "cell_type": "code",
   "execution_count": 22,
   "metadata": {},
   "outputs": [
    {
     "name": "stdout",
     "output_type": "stream",
     "text": [
      "['2'] ['L']\n",
      "HELLO\n"
     ]
    }
   ],
   "source": [
    "\n",
    "def transform_string(inp_string):\n",
    "    a=\"\"\n",
    "    m=\"\"\n",
    "    b=[]\n",
    "    d=[]\n",
    "    q=0\n",
    "    k=0\n",
    "    for i in inp_string:\n",
    "        if         i == \"1\" or i == \"2\" or\\\n",
    "                   i == \"3\" or i == \"4\" or\\\n",
    "                   i == \"5\" or i == \"6\" or\\\n",
    "                   i == \"7\" or i == \"8\" or\\\n",
    "                   i == \"9\" or i == \"0\" :\n",
    "            q = 1\n",
    "            a += i\n",
    "        elif q==1 :\n",
    "                q=0\n",
    "                for j in range(int(a)-1):\n",
    "                    m += i\n",
    "                b.append(a)\n",
    "                d.append(m)\n",
    "                k+=1\n",
    "                a = \"\"\n",
    "                m = \"\"\n",
    "    for k in range(len(b)):        \n",
    "        inp_string = inp_string.replace(b[k],d[k])\n",
    "    return inp_string"
   ]
  },
  {
   "cell_type": "code",
   "execution_count": 23,
   "metadata": {},
   "outputs": [
    {
     "name": "stdout",
     "output_type": "stream",
     "text": [
      "['2'] ['L']\n",
      "[] []\n",
      "['12'] ['иииииииииии']\n",
      "['2', '3', '78', '65'] ['л', 'уу', 'ннннннннннннннннннннннннннннннннннннннннннннннннннннннннннннннннннннннннннннн', 'тттттттттттттттттттттттттттттттттттттттттттттттттттттттттттттттт']\n"
     ]
    }
   ],
   "source": [
    "assert transform_string(\"HE2LO\") == \"HELLO\"\n",
    "assert transform_string(\"HI\") == \"HI\"\n",
    "assert transform_string(\"пр12ивет\") == \"приииииииииииивет\"\n",
    "assert transform_string(\"2л3у78н65тик\") == 'ллуууннннннннннннннннннннннннннннннннннннннннннннннннннннннннннннннннннннннннннннннтттттттттттттттттттттттттттттттттттттттттттттттттттттттттттттттттик'\n",
    "#TODO Дописать 2 своих теста"
   ]
  },
  {
   "cell_type": "markdown",
   "metadata": {},
   "source": [
    "# Суббота"
   ]
  },
  {
   "cell_type": "code",
   "execution_count": 4,
   "metadata": {},
   "outputs": [],
   "source": [
    "#TODO метод выводящий статистику по строке, кол-во гласных, согласных, цифр, строчных букв, прописных букв\n",
    "def string_stat(inp_string):\n",
    "    vowels = 0\n",
    "    consonants = 0\n",
    "    digits=0\n",
    "    lowercase=0\n",
    "    uppercase=0\n",
    "    for i in inp_string:\n",
    "        if i == i.lower():\n",
    "            letter = i.lower()\n",
    "            if     letter == \"1\" or letter == \"2\" or\\\n",
    "                   letter == \"3\" or letter == \"4\" or\\\n",
    "                   letter == \"5\" or letter == \"6\" or\\\n",
    "                   letter == \"7\" or letter == \"8\" or\\\n",
    "                   letter == \"9\" or letter == \"0\" :\n",
    "                    digits +=1\n",
    "            elif   letter == \"а\" or letter == \"у\" or\\\n",
    "                   letter == \"е\" or letter == \"ы\" or\\\n",
    "                   letter == \"я\" or letter == \"ю\" or\\\n",
    "                   letter == \"э\" or letter == \"и\" or\\\n",
    "                   letter == \"о\" or letter == \"ё\" :\n",
    "                    vowels += 1\n",
    "                    lowercase += 1\n",
    "            else:         \n",
    "                    consonants += 1\n",
    "                    lowercase += 1\n",
    "        else:\n",
    "            letter = i.lower()\n",
    "            if     letter == \"а\" or letter == \"у\" or\\\n",
    "                   letter == \"е\" or letter == \"ы\" or\\\n",
    "                   letter == \"я\" or letter == \"ю\" or\\\n",
    "                   letter == \"э\" or letter == \"и\" or\\\n",
    "                   letter == \"о\" or letter == \"ё\" :\n",
    "                    vowels += 1\n",
    "            else:         \n",
    "                    consonants += 1\n",
    "            uppercase += 1\n",
    "    a=(vowels, consonants, digits, lowercase, uppercase)\n",
    "    return a"
   ]
  },
  {
   "cell_type": "code",
   "execution_count": 5,
   "metadata": {
    "scrolled": true
   },
   "outputs": [],
   "source": [
    "assert string_stat(\"Тевирп\") == (2, 4, 0, 5, 1)\n",
    "assert string_stat(\"КоРоВа4\") == (3, 3, 1, 3, 3)\n",
    "assert string_stat(\"Бе1ГемоТ3\") == (3, 4, 2, 4, 3)\n",
    "assert string_stat(\"МноГо4ПримеРОв25\") == (5, 8, 3, 8, 5)\n",
    "#TODO 2 своих теста"
   ]
  },
  {
   "cell_type": "markdown",
   "metadata": {},
   "source": [
    "# Воскресенье - ВЫХОДНОЙ"
   ]
  },
  {
   "cell_type": "markdown",
   "metadata": {},
   "source": [
    "# Понедельник"
   ]
  },
  {
   "cell_type": "code",
   "execution_count": 25,
   "metadata": {},
   "outputs": [],
   "source": [
    "#TODO инвертируйте словарь из k - [v_1, v_2] в v_1 [k_1]\n",
    "def dict_inverter(oldDict):\n",
    "    invertedDict = {}\n",
    "    for key,valuelist in oldDict.iteritems():\n",
    "        for value in valuelist:\n",
    "            try:\n",
    "                entry = invertedDict[value]\n",
    "                if key not in entry:\n",
    "                    entry.append(key)\n",
    "            except KeyError:\n",
    "                invertedDict[value] = [key]\n",
    "    return invertedDict"
   ]
  },
  {
   "cell_type": "code",
   "execution_count": 29,
   "metadata": {},
   "outputs": [
    {
     "ename": "NameError",
     "evalue": "name 'dict_inverter' is not defined",
     "output_type": "error",
     "traceback": [
      "\u001b[0;31m---------------------------------------------------------------------------\u001b[0m",
      "\u001b[0;31mNameError\u001b[0m                                 Traceback (most recent call last)",
      "\u001b[0;32m<ipython-input-29-d9cdcdd63dc8>\u001b[0m in \u001b[0;36m<module>\u001b[0;34m()\u001b[0m\n\u001b[0;32m----> 1\u001b[0;31m \u001b[0;32massert\u001b[0m \u001b[0mdict_inverter\u001b[0m\u001b[0;34m(\u001b[0m\u001b[0;34m{\u001b[0m\u001b[0;34m\"mango\"\u001b[0m \u001b[0;34m:\u001b[0m \u001b[0;34m[\u001b[0m\u001b[0;34m\"eatable\"\u001b[0m\u001b[0;34m]\u001b[0m\u001b[0;34m,\u001b[0m \u001b[0;34m\"pillow\"\u001b[0m\u001b[0;34m:\u001b[0m \u001b[0;34m[\u001b[0m\u001b[0;34m\"sleepable\"\u001b[0m\u001b[0;34m]\u001b[0m\u001b[0;34m}\u001b[0m\u001b[0;34m)\u001b[0m \u001b[0;34m==\u001b[0m \u001b[0;34m{\u001b[0m\u001b[0;34m\"eatable\"\u001b[0m\u001b[0;34m:\u001b[0m \u001b[0;34m\"mango\"\u001b[0m\u001b[0;34m,\u001b[0m \u001b[0;34m\"sleepable\"\u001b[0m\u001b[0;34m:\u001b[0m \u001b[0;34m\"pillow\"\u001b[0m\u001b[0;34m}\u001b[0m\u001b[0;34m\u001b[0m\u001b[0m\n\u001b[0m\u001b[1;32m      2\u001b[0m \u001b[0;32massert\u001b[0m \u001b[0mdict_inverter\u001b[0m\u001b[0;34m(\u001b[0m\u001b[0;34m{\u001b[0m\u001b[0;34m\"mango\"\u001b[0m \u001b[0;34m:\u001b[0m \u001b[0;34m[\u001b[0m\u001b[0;34m\"eatable\"\u001b[0m\u001b[0;34m,\u001b[0m \u001b[0;34m\"readable\"\u001b[0m\u001b[0;34m]\u001b[0m\u001b[0;34m}\u001b[0m\u001b[0;34m)\u001b[0m \u001b[0;34m==\u001b[0m \u001b[0;34m{\u001b[0m\u001b[0;34m\"readable\"\u001b[0m\u001b[0;34m:\u001b[0m\u001b[0;34m\"mango\"\u001b[0m\u001b[0;34m,\u001b[0m \u001b[0;34m\"eatable\"\u001b[0m\u001b[0;34m:\u001b[0m\u001b[0;34m\"mango\"\u001b[0m\u001b[0;34m}\u001b[0m\u001b[0;34m\u001b[0m\u001b[0m\n\u001b[1;32m      3\u001b[0m \u001b[0;32massert\u001b[0m \u001b[0mdict_inverter\u001b[0m\u001b[0;34m(\u001b[0m\u001b[0;34m{\u001b[0m\u001b[0;34m\"mango\"\u001b[0m \u001b[0;34m:\u001b[0m \u001b[0;34m[\u001b[0m\u001b[0;34m\"eatable\"\u001b[0m\u001b[0;34m]\u001b[0m\u001b[0;34m,\u001b[0m \u001b[0;34m\"banana\"\u001b[0m\u001b[0;34m:\u001b[0m \u001b[0;34m[\u001b[0m\u001b[0;34m\"eatable\"\u001b[0m\u001b[0;34m]\u001b[0m\u001b[0;34m}\u001b[0m\u001b[0;34m)\u001b[0m \u001b[0;34m==\u001b[0m \u001b[0;34m{\u001b[0m\u001b[0;34m\"eatable\"\u001b[0m\u001b[0;34m:\u001b[0m \u001b[0;34m[\u001b[0m\u001b[0;34m\"mango\"\u001b[0m\u001b[0;34m,\u001b[0m \u001b[0;34m\"banana\"\u001b[0m\u001b[0;34m]\u001b[0m\u001b[0;34m}\u001b[0m\u001b[0;34m\u001b[0m\u001b[0m\n\u001b[1;32m      4\u001b[0m \u001b[0;34m\u001b[0m\u001b[0m\n\u001b[1;32m      5\u001b[0m \u001b[0;31m#TODO Один свой тест\u001b[0m\u001b[0;34m\u001b[0m\u001b[0;34m\u001b[0m\u001b[0m\n",
      "\u001b[0;31mNameError\u001b[0m: name 'dict_inverter' is not defined"
     ]
    }
   ],
   "source": [
    "assert dict_inverter({\"mango\" : [\"eatable\"], \"pillow\": [\"sleepable\"]}) == {\"eatable\": \"mango\", \"sleepable\": \"pillow\"}\n",
    "assert dict_inverter({\"mango\" : [\"eatable\", \"readable\"]}) == {\"readable\":\"mango\", \"eatable\":\"mango\"}\n",
    "assert dict_inverter({\"mango\" : [\"eatable\"], \"banana\": [\"eatable\"]}) == {\"eatable\": [\"mango\", \"banana\"]}\n",
    "\n",
    "#TODO Один свой тест"
   ]
  },
  {
   "cell_type": "markdown",
   "metadata": {},
   "source": [
    "# Вторник"
   ]
  },
  {
   "cell_type": "code",
   "execution_count": 30,
   "metadata": {},
   "outputs": [],
   "source": [
    "def uniq_array( input_arr ):\n",
    "    res_arr = []\n",
    "    for i in range(len(input_arr)):\n",
    "        if input_arr[i] not in input_arr[i+1:]:\n",
    "            res_arr.append(input_arr[i])\n",
    "    return res_arr\n",
    "   "
   ]
  },
  {
   "cell_type": "code",
   "execution_count": 31,
   "metadata": {},
   "outputs": [],
   "source": [
    "assert uniq_array([0]) == [0]\n",
    "assert uniq_array([0, 1, 2, 3]) == [0, 1, 2, 3]\n",
    "assert uniq_array([\"f\", \"t\", \"f\"]) == ['t', 'f']\n",
    "assert uniq_array(['rt', 'rt']) == ['rt']"
   ]
  },
  {
   "cell_type": "code",
   "execution_count": null,
   "metadata": {},
   "outputs": [],
   "source": []
  }
 ],
 "metadata": {
  "kernelspec": {
   "display_name": "Python 3",
   "language": "python",
   "name": "python3"
  },
  "language_info": {
   "codemirror_mode": {
    "name": "ipython",
    "version": 3
   },
   "file_extension": ".py",
   "mimetype": "text/x-python",
   "name": "python",
   "nbconvert_exporter": "python",
   "pygments_lexer": "ipython3",
   "version": "3.6.5"
  }
 },
 "nbformat": 4,
 "nbformat_minor": 2
}
